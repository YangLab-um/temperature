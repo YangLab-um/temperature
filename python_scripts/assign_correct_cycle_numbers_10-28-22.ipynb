{
 "cells": [
  {
   "cell_type": "code",
   "execution_count": 1,
   "metadata": {},
   "outputs": [],
   "source": [
    "import numpy as np\n",
    "import pandas as pd\n",
    "import plotly.express as px\n",
    "import matplotlib.pyplot as plt"
   ]
  },
  {
   "cell_type": "code",
   "execution_count": 2,
   "metadata": {},
   "outputs": [],
   "source": [
    "date = \"10-28-22\"\n",
    "data_location = rf\"E:\\Project 6 - Temperature\\Experiments\\data_analysis\\{date}\""
   ]
  },
  {
   "cell_type": "markdown",
   "metadata": {},
   "source": [
    "# Load all data combined"
   ]
  },
  {
   "cell_type": "code",
   "execution_count": 3,
   "metadata": {},
   "outputs": [],
   "source": [
    "all_data = pd.read_csv(data_location + rf\"\\{date}_all_features_combined.csv\")\n",
    "all_data[\"CYCLE_STR\"] = all_data[\"CYCLE\"].astype(str)\n",
    "all_data[\"POSITION_STR\"] = all_data[\"POSITION\"].astype(str)"
   ]
  },
  {
   "cell_type": "code",
   "execution_count": 4,
   "metadata": {},
   "outputs": [],
   "source": [
    "# Row 1\n",
    "peaks_row_1 = all_data[(all_data[\"TYPE\"] == \"PEAK\") & (all_data[\"POSITION\"] <= 12)]\n",
    "troughs_row_1 = all_data[(all_data[\"TYPE\"] == \"TROUGH\") & (all_data[\"POSITION\"] <= 12)]\n",
    "# Row 2\n",
    "peaks_row_2 = all_data[(all_data[\"TYPE\"] == \"PEAK\") & (all_data[\"POSITION\"] > 12)]\n",
    "troughs_row_2 = all_data[(all_data[\"TYPE\"] == \"TROUGH\") & (all_data[\"POSITION\"] > 12)]"
   ]
  },
  {
   "cell_type": "markdown",
   "metadata": {},
   "source": [
    "# Visualize data before renumbering"
   ]
  },
  {
   "cell_type": "code",
   "execution_count": null,
   "metadata": {},
   "outputs": [],
   "source": [
    "px.scatter(peaks_row_1, x=\"TIME\", y=\"MEAN_TEMPERATURE\", color=\"CYCLE_STR\")"
   ]
  },
  {
   "cell_type": "code",
   "execution_count": null,
   "metadata": {},
   "outputs": [],
   "source": [
    "px.scatter(troughs_row_1, x=\"TIME\", y=\"MEAN_TEMPERATURE\", color=\"CYCLE_STR\")"
   ]
  },
  {
   "cell_type": "code",
   "execution_count": null,
   "metadata": {},
   "outputs": [],
   "source": [
    "px.scatter(peaks_row_2, x=\"TIME\", y=\"MEAN_TEMPERATURE\", color=\"CYCLE_STR\")"
   ]
  },
  {
   "cell_type": "code",
   "execution_count": null,
   "metadata": {},
   "outputs": [],
   "source": [
    "px.scatter(troughs_row_2, x=\"TIME\", y=\"MEAN_TEMPERATURE\", color=\"CYCLE_STR\")"
   ]
  },
  {
   "cell_type": "markdown",
   "metadata": {},
   "source": [
    "# First round of cycle number fixes"
   ]
  },
  {
   "cell_type": "markdown",
   "metadata": {},
   "source": [
    "## Peaks"
   ]
  },
  {
   "cell_type": "code",
   "execution_count": 5,
   "metadata": {},
   "outputs": [],
   "source": [
    "# On row 1, from position 2 to 8, add 1 to cycle number to peaks\n",
    "peaks = all_data[all_data[\"TYPE\"] == \"PEAK\"]\n",
    "places_to_add = peaks.loc[(peaks[\"POSITION\"] >= 2) & (peaks[\"POSITION\"] <= 8)].index \n",
    "all_data.loc[places_to_add, \"CYCLE\"] = all_data.loc[places_to_add, \"CYCLE\"] + 1\n",
    "all_data[\"CYCLE_STR\"] = all_data[\"CYCLE\"].astype(str)\n",
    "all_data[\"POSITION_STR\"] = all_data[\"POSITION\"].astype(str)"
   ]
  },
  {
   "cell_type": "code",
   "execution_count": 6,
   "metadata": {},
   "outputs": [],
   "source": [
    "# Row 1\n",
    "peaks_row_1 = all_data[(all_data[\"TYPE\"] == \"PEAK\") & (all_data[\"POSITION\"] <= 12)]\n",
    "troughs_row_1 = all_data[(all_data[\"TYPE\"] == \"TROUGH\") & (all_data[\"POSITION\"] <= 12)]\n",
    "# Row 2\n",
    "peaks_row_2 = all_data[(all_data[\"TYPE\"] == \"PEAK\") & (all_data[\"POSITION\"] > 12)]\n",
    "troughs_row_2 = all_data[(all_data[\"TYPE\"] == \"TROUGH\") & (all_data[\"POSITION\"] > 12)]"
   ]
  },
  {
   "cell_type": "markdown",
   "metadata": {},
   "source": [
    "### Debug peaks per position"
   ]
  },
  {
   "cell_type": "code",
   "execution_count": null,
   "metadata": {},
   "outputs": [],
   "source": [
    "px.scatter(peaks_row_1, x=\"TIME\", y=\"MEAN_TEMPERATURE\", color=\"CYCLE_STR\")"
   ]
  },
  {
   "cell_type": "code",
   "execution_count": null,
   "metadata": {},
   "outputs": [],
   "source": [
    "px.scatter(troughs_row_1, x=\"TIME\", y=\"MEAN_TEMPERATURE\", color=\"CYCLE_STR\")"
   ]
  },
  {
   "cell_type": "code",
   "execution_count": null,
   "metadata": {},
   "outputs": [],
   "source": [
    "position = 0\n",
    "df = peaks_row_1[peaks_row_1[\"POSITION\"] == position] # Remember to change row if necessary\n",
    "px.scatter(df, x=\"TIME\", y=\"MEAN_TEMPERATURE\", color=\"CYCLE_STR\", hover_data=[\"POSITION_STR\", \"TRACK_ID\"],)"
   ]
  },
  {
   "cell_type": "markdown",
   "metadata": {},
   "source": [
    "### Second round of cycle number fixes"
   ]
  },
  {
   "cell_type": "code",
   "execution_count": 7,
   "metadata": {},
   "outputs": [],
   "source": [
    "# Track ids per position that need +1 on their cycle number\n",
    "row_1_selection = peaks_row_1[peaks_row_1[\"CYCLE\"] == 1][[\"TIME\", \"TRACK_ID\", \"POSITION\"]]\n",
    "row_2_selection = peaks_row_2[peaks_row_2[\"CYCLE\"] == 1][[\"TIME\", \"TRACK_ID\", \"POSITION\"]]\n",
    "plus_one_track_ids = {\n",
    "    'Pos1': [140, 82],\n",
    "    'Pos3': [125],\n",
    "    'Pos4': [188],\n",
    "    'Pos5': [274],\n",
    "    'Pos9': row_1_selection[(row_1_selection[\"POSITION\"] == 9) & (row_1_selection[\"TIME\"] > 50)][\"TRACK_ID\"].tolist(),\n",
    "    'Pos10': [36, 4, 41, 42],\n",
    "    'Pos13': [161],\n",
    "    'Pos15': [277, 90, 122, 22, 158],\n",
    "    # Any track id whose cycle 1 time is larger than 50\n",
    "    'Pos16': row_2_selection[(row_2_selection[\"POSITION\"] == 16) & (row_2_selection[\"TIME\"] > 50)][\"TRACK_ID\"].tolist(),\n",
    "    'Pos17': row_2_selection[(row_2_selection[\"POSITION\"] == 17) & (row_2_selection[\"TIME\"] > 50)][\"TRACK_ID\"].tolist(),\n",
    "    'Pos18': row_2_selection[(row_2_selection[\"POSITION\"] == 18) & (row_2_selection[\"TIME\"] > 50)][\"TRACK_ID\"].tolist(),\n",
    "    'Pos19': row_2_selection[(row_2_selection[\"POSITION\"] == 19) & (row_2_selection[\"TIME\"] > 50)][\"TRACK_ID\"].tolist(),\n",
    "    'Pos21': row_2_selection[(row_2_selection[\"POSITION\"] == 21) & (row_2_selection[\"TIME\"] > 50)][\"TRACK_ID\"].tolist(),\n",
    "}"
   ]
  },
  {
   "cell_type": "code",
   "execution_count": 8,
   "metadata": {},
   "outputs": [],
   "source": [
    "# Get all indices where we need to add 1 to the cycle number \n",
    "indices_to_add = []\n",
    "peaks = all_data[all_data[\"TYPE\"] == \"PEAK\"]\n",
    "for pos, track_ids in plus_one_track_ids.items():\n",
    "    for track_id in track_ids:\n",
    "        indices = peaks[(peaks[\"POSITION\"] == int(pos[3:])) & (peaks[\"TRACK_ID\"] == track_id)].index.tolist()\n",
    "        indices_to_add.extend(indices)\n",
    "\n",
    "all_data.loc[indices_to_add, \"CYCLE\"] = all_data.loc[indices_to_add, \"CYCLE\"] + 1\n",
    "all_data[\"CYCLE_STR\"] = all_data[\"CYCLE\"].astype(str)\n",
    "all_data[\"POSITION_STR\"] = all_data[\"POSITION\"].astype(str)"
   ]
  },
  {
   "cell_type": "code",
   "execution_count": 9,
   "metadata": {},
   "outputs": [],
   "source": [
    "# Row 1\n",
    "peaks_row_1 = all_data[(all_data[\"TYPE\"] == \"PEAK\") & (all_data[\"POSITION\"] <= 12)]\n",
    "troughs_row_1 = all_data[(all_data[\"TYPE\"] == \"TROUGH\") & (all_data[\"POSITION\"] <= 12)]\n",
    "# Row 2\n",
    "peaks_row_2 = all_data[(all_data[\"TYPE\"] == \"PEAK\") & (all_data[\"POSITION\"] > 12)]\n",
    "troughs_row_2 = all_data[(all_data[\"TYPE\"] == \"TROUGH\") & (all_data[\"POSITION\"] > 12)]"
   ]
  },
  {
   "cell_type": "markdown",
   "metadata": {},
   "source": [
    "### Check result"
   ]
  },
  {
   "cell_type": "code",
   "execution_count": null,
   "metadata": {},
   "outputs": [],
   "source": [
    "px.scatter(peaks_row_1, x=\"TIME\", y=\"MEAN_TEMPERATURE\", color=\"CYCLE_STR\",\n",
    "           hover_data=[\"POSITION_STR\", \"TRACK_ID\"],)"
   ]
  },
  {
   "cell_type": "code",
   "execution_count": null,
   "metadata": {},
   "outputs": [],
   "source": [
    "position = 16\n",
    "df = peaks_row_2[peaks_row_2[\"POSITION\"] == position]\n",
    "px.scatter(df, x=\"TIME\", y=\"MEAN_TEMPERATURE\", color=\"CYCLE_STR\", hover_data=[\"POSITION_STR\", \"TRACK_ID\"],)"
   ]
  },
  {
   "cell_type": "markdown",
   "metadata": {},
   "source": [
    "## Troughs"
   ]
  },
  {
   "cell_type": "markdown",
   "metadata": {},
   "source": [
    "### Plot"
   ]
  },
  {
   "cell_type": "code",
   "execution_count": null,
   "metadata": {},
   "outputs": [],
   "source": [
    "position = 21\n",
    "df = troughs_row_2[troughs_row_2[\"POSITION\"] == position] # Remember to change row if necessary\n",
    "px.scatter(df, x=\"TIME\", y=\"MEAN_TEMPERATURE\", color=\"CYCLE_STR\", hover_data=[\"POSITION_STR\", \"TRACK_ID\"],)"
   ]
  },
  {
   "cell_type": "markdown",
   "metadata": {},
   "source": [
    "### Renumber"
   ]
  },
  {
   "cell_type": "code",
   "execution_count": 10,
   "metadata": {},
   "outputs": [],
   "source": [
    "# Track ids per position that need +1 on their cycle number\n",
    "row_1_selection = troughs_row_1[troughs_row_1[\"CYCLE\"] == 1][[\"TIME\", \"TRACK_ID\", \"POSITION\"]]\n",
    "row_2_selection = troughs_row_2[troughs_row_2[\"CYCLE\"] == 1][[\"TIME\", \"TRACK_ID\", \"POSITION\"]]\n",
    "plus_one_track_ids = {\n",
    "    'Pos0': [397],\n",
    "    'Pos1': row_1_selection[(row_1_selection[\"POSITION\"] == 1) & (row_1_selection[\"TIME\"] > 100)][\"TRACK_ID\"].tolist(),\n",
    "    'Pos2': row_1_selection[(row_1_selection[\"POSITION\"] == 2) & (row_1_selection[\"TIME\"] > 70)][\"TRACK_ID\"].tolist(),\n",
    "    'Pos3': row_1_selection[(row_1_selection[\"POSITION\"] == 3) & (row_1_selection[\"TIME\"] > 50)][\"TRACK_ID\"].tolist(),\n",
    "    'Pos4': row_1_selection[(row_1_selection[\"POSITION\"] == 4) & (row_1_selection[\"TIME\"] > 50)][\"TRACK_ID\"].tolist(),\n",
    "    'Pos5': row_1_selection[(row_1_selection[\"POSITION\"] == 5) & (row_1_selection[\"TIME\"] > 50)][\"TRACK_ID\"].tolist(),\n",
    "    'Pos6': row_1_selection[(row_1_selection[\"POSITION\"] == 6) & (row_1_selection[\"TIME\"] > 50)][\"TRACK_ID\"].tolist(),\n",
    "    'Pos7': row_1_selection[(row_1_selection[\"POSITION\"] == 7) & (row_1_selection[\"TIME\"] > 50)][\"TRACK_ID\"].tolist(),\n",
    "    'Pos8': row_1_selection[(row_1_selection[\"POSITION\"] == 8) & (row_1_selection[\"TIME\"] > 50)][\"TRACK_ID\"].tolist(),\n",
    "    'Pos9': row_1_selection[(row_1_selection[\"POSITION\"] == 9) & (row_1_selection[\"TIME\"] > 60)][\"TRACK_ID\"].tolist(),\n",
    "    'Pos10': [4, 36],\n",
    "    'Pos15': [22, 27],\n",
    "    'Pos16': row_2_selection[(row_2_selection[\"POSITION\"] == 16) & (row_2_selection[\"TIME\"] > 80)][\"TRACK_ID\"].tolist(),\n",
    "    'Pos17': row_2_selection[(row_2_selection[\"POSITION\"] == 17) & (row_2_selection[\"TIME\"] > 80)][\"TRACK_ID\"].tolist(),\n",
    "    'Pos18': row_2_selection[(row_2_selection[\"POSITION\"] == 18) & (row_2_selection[\"TIME\"] > 80)][\"TRACK_ID\"].tolist(),\n",
    "    'Pos21': row_2_selection[(row_2_selection[\"POSITION\"] == 21) & (row_2_selection[\"TIME\"] > 80)][\"TRACK_ID\"].tolist(),\n",
    "}"
   ]
  },
  {
   "cell_type": "code",
   "execution_count": 11,
   "metadata": {},
   "outputs": [],
   "source": [
    "# Get all indices where we need to add 1 to the cycle number \n",
    "indices_to_add = []\n",
    "troughs = all_data[all_data[\"TYPE\"] == \"TROUGH\"]\n",
    "for pos, track_ids in plus_one_track_ids.items():\n",
    "    for track_id in track_ids:\n",
    "        indices = troughs[(troughs[\"POSITION\"] == int(pos[3:])) & (troughs[\"TRACK_ID\"] == track_id)].index.tolist()\n",
    "        indices_to_add.extend(indices)\n",
    "\n",
    "all_data.loc[indices_to_add, \"CYCLE\"] = all_data.loc[indices_to_add, \"CYCLE\"] + 1\n",
    "all_data[\"CYCLE_STR\"] = all_data[\"CYCLE\"].astype(str)\n",
    "all_data[\"POSITION_STR\"] = all_data[\"POSITION\"].astype(str)"
   ]
  },
  {
   "cell_type": "code",
   "execution_count": 12,
   "metadata": {},
   "outputs": [],
   "source": [
    "# Row 1\n",
    "peaks_row_1 = all_data[(all_data[\"TYPE\"] == \"PEAK\") & (all_data[\"POSITION\"] <= 12)]\n",
    "troughs_row_1 = all_data[(all_data[\"TYPE\"] == \"TROUGH\") & (all_data[\"POSITION\"] <= 12)]\n",
    "# Row 2\n",
    "peaks_row_2 = all_data[(all_data[\"TYPE\"] == \"PEAK\") & (all_data[\"POSITION\"] > 12)]\n",
    "troughs_row_2 = all_data[(all_data[\"TYPE\"] == \"TROUGH\") & (all_data[\"POSITION\"] > 12)]"
   ]
  },
  {
   "cell_type": "markdown",
   "metadata": {},
   "source": [
    "### Check result"
   ]
  },
  {
   "cell_type": "code",
   "execution_count": null,
   "metadata": {},
   "outputs": [],
   "source": [
    "px.scatter(troughs_row_1, x=\"TIME\", y=\"MEAN_TEMPERATURE\", color=\"CYCLE_STR\",\n",
    "           hover_data=[\"POSITION_STR\", \"TRACK_ID\"],)"
   ]
  },
  {
   "cell_type": "markdown",
   "metadata": {},
   "source": [
    "# Save result"
   ]
  },
  {
   "cell_type": "code",
   "execution_count": 13,
   "metadata": {},
   "outputs": [],
   "source": [
    "all_data.to_csv(data_location + rf\"\\{date}_all_features_combined_renumbered.csv\", index=False)"
   ]
  }
 ],
 "metadata": {
  "kernelspec": {
   "display_name": "base",
   "language": "python",
   "name": "python3"
  },
  "language_info": {
   "codemirror_mode": {
    "name": "ipython",
    "version": 3
   },
   "file_extension": ".py",
   "mimetype": "text/x-python",
   "name": "python",
   "nbconvert_exporter": "python",
   "pygments_lexer": "ipython3",
   "version": "3.10.8"
  }
 },
 "nbformat": 4,
 "nbformat_minor": 2
}
